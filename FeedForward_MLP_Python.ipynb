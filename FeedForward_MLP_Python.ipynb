{
 "cells": [
  {
   "cell_type": "markdown",
   "id": "6033208c",
   "metadata": {},
   "source": [
    "## Mathematics of Multi-Layer Perceptron (MLP)\n",
    "\n",
    "To begin with, we introduce an MLP with two input nodes, one hidden layer, and a vector output with two elements.\n",
    "\n",
    "The activation for the hidden layer is ReLu. The output layer is linear, i.e., identity activation. The two sets of weights and biases are given by \n",
    "\n",
    "\\begin{equation}\n",
    "    W_1 = \n",
    "        \\begin{bmatrix}\n",
    "            1 & -2 \\\\\n",
    "            3 & 4\n",
    "        \\end{bmatrix},   \\quad\n",
    "    b_1 = \n",
    "        \\begin{bmatrix}\n",
    "            1 \\\\\n",
    "            0\n",
    "        \\end{bmatrix} \\\\\n",
    "    W_2 = \n",
    "        \\begin{bmatrix}\n",
    "            2 & 2 \\\\\n",
    "            3 & -3\n",
    "        \\end{bmatrix},   \\quad\n",
    "    b_2 = \n",
    "        \\begin{bmatrix}\n",
    "            0 \\\\\n",
    "            -4\n",
    "        \\end{bmatrix}\n",
    "\\end{equation}\n",
    "\n",
    "We want to find the output of this MLP for input $x=[1 -1]^T$"
   ]
  },
  {
   "cell_type": "code",
   "execution_count": 6,
   "id": "70b21606",
   "metadata": {},
   "outputs": [
    {
     "name": "stdout",
     "output_type": "stream",
     "text": [
      "y = \n",
      " [[8]\n",
      " [8]]\n",
      "<class 'numpy.ndarray'>\n"
     ]
    }
   ],
   "source": [
    "def MLP_FeedForward(W1,b1,W2,b2 , x):\n",
    "    # Calculate the hidden and output activations (Last layer is the output)\n",
    "    # np.maximum(x,0) acts exactly as a ReLu function\n",
    "    a1 = np.maximum(W1@x+b1,0)\n",
    "    a2 = np.maximum(W2@a1+b2,0)\n",
    "    return a2\n",
    "\n",
    "import numpy as np\n",
    "\n",
    "# Define the weight matrices and biases of the neural net\n",
    "W1 = np.array([[1, -2],[3, 4]])\n",
    "W2 = np.array([[2, 2],[3, -3]])\n",
    "b1 = np.array([[1],[0]])\n",
    "b2 = np.array([[0],[-4]])\n",
    "\n",
    "# Input vector\n",
    "x = np.array([[1],[-1]])\n",
    "\n",
    "y = MLP_FeedForward(W1, b1, W2, b2, x)\n",
    "\n",
    "\n",
    "print('y = \\n', y)\n",
    "print(type(y))"
   ]
  },
  {
   "cell_type": "code",
   "execution_count": null,
   "id": "e0cb7e2c",
   "metadata": {},
   "outputs": [],
   "source": [
    "## Character recognition using a trained MLP\n"
   ]
  }
 ],
 "metadata": {
  "kernelspec": {
   "display_name": "Python 3",
   "language": "python",
   "name": "python3"
  },
  "language_info": {
   "codemirror_mode": {
    "name": "ipython",
    "version": 3
   },
   "file_extension": ".py",
   "mimetype": "text/x-python",
   "name": "python",
   "nbconvert_exporter": "python",
   "pygments_lexer": "ipython3",
   "version": "3.8.8"
  }
 },
 "nbformat": 4,
 "nbformat_minor": 5
}
